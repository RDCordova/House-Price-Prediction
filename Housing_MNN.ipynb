{
 "cells": [
  {
   "cell_type": "markdown",
   "metadata": {},
   "source": [
    "# Housing Price Prediction: Multi Input Neural Network\n",
    "\n",
    "## COMP 4449 Capstone\n",
    "Rodney Cordova"
   ]
  },
  {
   "cell_type": "markdown",
   "metadata": {},
   "source": [
    "## Import modules"
   ]
  },
  {
   "cell_type": "code",
   "execution_count": 27,
   "metadata": {},
   "outputs": [],
   "source": [
    "import numpy as np \n",
    "import pandas as pd \n",
    "import requests \n",
    "import matplotlib.pyplot as plt \n",
    "import seaborn as sns\n",
    "import os\n",
    "import glob\n",
    "import cv2\n",
    "from scipy.stats import norm\n",
    "from sklearn.preprocessing import MinMaxScaler\n",
    "from sklearn.model_selection import train_test_split\n",
    "import shutil\n",
    "from keras.preprocessing.image import ImageDataGenerator, load_img, img_to_array\n",
    "from tensorflow.keras.models import Sequential\n",
    "from tensorflow.keras.layers import BatchNormalization\n",
    "from tensorflow.keras.layers import Conv2D\n",
    "from tensorflow.keras.layers import MaxPooling2D\n",
    "from tensorflow.keras.layers import Activation\n",
    "from tensorflow.keras.layers import Dropout\n",
    "from tensorflow.keras.layers import Dense\n",
    "from tensorflow.keras.layers import Flatten\n",
    "from tensorflow.keras.layers import Input\n",
    "from tensorflow.keras.models import Model\n",
    "from tensorflow.keras.optimizers import Adam\n",
    "from sklearn.model_selection import train_test_split\n",
    "from tensorflow.keras.layers import concatenate\n",
    "from sklearn.model_selection import GridSearchCV\n",
    "from sklearn.model_selection import RandomizedSearchCV\n",
    "import locale"
   ]
  },
  {
   "cell_type": "markdown",
   "metadata": {},
   "source": [
    "## Loan Numeric Data"
   ]
  },
  {
   "cell_type": "code",
   "execution_count": 2,
   "metadata": {},
   "outputs": [
    {
     "data": {
      "text/html": [
       "<div>\n",
       "<style scoped>\n",
       "    .dataframe tbody tr th:only-of-type {\n",
       "        vertical-align: middle;\n",
       "    }\n",
       "\n",
       "    .dataframe tbody tr th {\n",
       "        vertical-align: top;\n",
       "    }\n",
       "\n",
       "    .dataframe thead th {\n",
       "        text-align: right;\n",
       "    }\n",
       "</style>\n",
       "<table border=\"1\" class=\"dataframe\">\n",
       "  <thead>\n",
       "    <tr style=\"text-align: right;\">\n",
       "      <th></th>\n",
       "      <th>Bedrooms</th>\n",
       "      <th>Bathrooms</th>\n",
       "      <th>sqft</th>\n",
       "      <th>Price</th>\n",
       "    </tr>\n",
       "  </thead>\n",
       "  <tbody>\n",
       "    <tr>\n",
       "      <th>0</th>\n",
       "      <td>4</td>\n",
       "      <td>3</td>\n",
       "      <td>1634</td>\n",
       "      <td>452000</td>\n",
       "    </tr>\n",
       "    <tr>\n",
       "      <th>1</th>\n",
       "      <td>4</td>\n",
       "      <td>3</td>\n",
       "      <td>2037</td>\n",
       "      <td>450000</td>\n",
       "    </tr>\n",
       "    <tr>\n",
       "      <th>2</th>\n",
       "      <td>4</td>\n",
       "      <td>3</td>\n",
       "      <td>1879</td>\n",
       "      <td>495000</td>\n",
       "    </tr>\n",
       "    <tr>\n",
       "      <th>3</th>\n",
       "      <td>4</td>\n",
       "      <td>2</td>\n",
       "      <td>1976</td>\n",
       "      <td>498900</td>\n",
       "    </tr>\n",
       "    <tr>\n",
       "      <th>4</th>\n",
       "      <td>3</td>\n",
       "      <td>2</td>\n",
       "      <td>1667</td>\n",
       "      <td>450000</td>\n",
       "    </tr>\n",
       "    <tr>\n",
       "      <th>5</th>\n",
       "      <td>3</td>\n",
       "      <td>2</td>\n",
       "      <td>1732</td>\n",
       "      <td>470000</td>\n",
       "    </tr>\n",
       "    <tr>\n",
       "      <th>6</th>\n",
       "      <td>3</td>\n",
       "      <td>3</td>\n",
       "      <td>1522</td>\n",
       "      <td>455000</td>\n",
       "    </tr>\n",
       "    <tr>\n",
       "      <th>7</th>\n",
       "      <td>4</td>\n",
       "      <td>3</td>\n",
       "      <td>2137</td>\n",
       "      <td>479900</td>\n",
       "    </tr>\n",
       "    <tr>\n",
       "      <th>8</th>\n",
       "      <td>4</td>\n",
       "      <td>4</td>\n",
       "      <td>1978</td>\n",
       "      <td>479000</td>\n",
       "    </tr>\n",
       "    <tr>\n",
       "      <th>9</th>\n",
       "      <td>4</td>\n",
       "      <td>4</td>\n",
       "      <td>3610</td>\n",
       "      <td>692200</td>\n",
       "    </tr>\n",
       "  </tbody>\n",
       "</table>\n",
       "</div>"
      ],
      "text/plain": [
       "   Bedrooms  Bathrooms  sqft   Price\n",
       "0         4          3  1634  452000\n",
       "1         4          3  2037  450000\n",
       "2         4          3  1879  495000\n",
       "3         4          2  1976  498900\n",
       "4         3          2  1667  450000\n",
       "5         3          2  1732  470000\n",
       "6         3          3  1522  455000\n",
       "7         4          3  2137  479900\n",
       "8         4          4  1978  479000\n",
       "9         4          4  3610  692200"
      ]
     },
     "execution_count": 2,
     "metadata": {},
     "output_type": "execute_result"
    }
   ],
   "source": [
    "file = os.getcwd()+\"/house_image_data\"+\"/house_pricing.csv\"\n",
    "df = pd.read_csv(file)\n",
    "df.drop(columns = [\"id\"], inplace=True)\n",
    "df.head(10)"
   ]
  },
  {
   "cell_type": "markdown",
   "metadata": {},
   "source": [
    "## Load Image Data"
   ]
  },
  {
   "cell_type": "code",
   "execution_count": 3,
   "metadata": {},
   "outputs": [],
   "source": [
    "image_path = os.getcwd()+\"/house_image_data\"\n",
    "images = [] \n",
    "\n",
    "for i in df.index.values: \n",
    "    house_images = os.path.sep.join([image_path, \"{}-*\".format(i + 1)])\n",
    "    images_paths = sorted(list(glob.glob(house_images)))\n",
    "    inputImages = []\n",
    "    outputImage = np.zeros((64, 64, 3), dtype=\"uint8\")\n",
    "    \n",
    "    for j in images_paths:\n",
    "        image = cv2.imread(j)\n",
    "        image = cv2.resize(image, (32, 32))\n",
    "        inputImages.append(image)\n",
    "    \n",
    "    outputImage[0:32, 0:32] = inputImages[0]\n",
    "    outputImage[0:32, 32:64] = inputImages[1]\n",
    "    outputImage[32:64, 32:64] = inputImages[2]\n",
    "    outputImage[32:64, 0:32] = inputImages[3]\n",
    "    \n",
    "    images.append(outputImage)\n",
    "\n",
    "images = np.array(images)"
   ]
  },
  {
   "cell_type": "markdown",
   "metadata": {},
   "source": [
    "## EDA "
   ]
  },
  {
   "cell_type": "code",
   "execution_count": 4,
   "metadata": {},
   "outputs": [
    {
     "data": {
      "text/html": [
       "<div>\n",
       "<style scoped>\n",
       "    .dataframe tbody tr th:only-of-type {\n",
       "        vertical-align: middle;\n",
       "    }\n",
       "\n",
       "    .dataframe tbody tr th {\n",
       "        vertical-align: top;\n",
       "    }\n",
       "\n",
       "    .dataframe thead th {\n",
       "        text-align: right;\n",
       "    }\n",
       "</style>\n",
       "<table border=\"1\" class=\"dataframe\">\n",
       "  <thead>\n",
       "    <tr style=\"text-align: right;\">\n",
       "      <th></th>\n",
       "      <th>Bedrooms</th>\n",
       "      <th>Bathrooms</th>\n",
       "      <th>sqft</th>\n",
       "      <th>Price</th>\n",
       "    </tr>\n",
       "  </thead>\n",
       "  <tbody>\n",
       "    <tr>\n",
       "      <th>count</th>\n",
       "      <td>639.000000</td>\n",
       "      <td>639.000000</td>\n",
       "      <td>639.000000</td>\n",
       "      <td>639.000000</td>\n",
       "    </tr>\n",
       "    <tr>\n",
       "      <th>mean</th>\n",
       "      <td>3.721440</td>\n",
       "      <td>2.888889</td>\n",
       "      <td>2354.095462</td>\n",
       "      <td>602101.237872</td>\n",
       "    </tr>\n",
       "    <tr>\n",
       "      <th>std</th>\n",
       "      <td>0.938898</td>\n",
       "      <td>0.972273</td>\n",
       "      <td>933.326090</td>\n",
       "      <td>165022.828003</td>\n",
       "    </tr>\n",
       "    <tr>\n",
       "      <th>min</th>\n",
       "      <td>1.000000</td>\n",
       "      <td>1.000000</td>\n",
       "      <td>487.000000</td>\n",
       "      <td>209900.000000</td>\n",
       "    </tr>\n",
       "    <tr>\n",
       "      <th>25%</th>\n",
       "      <td>3.000000</td>\n",
       "      <td>2.000000</td>\n",
       "      <td>1707.000000</td>\n",
       "      <td>475000.000000</td>\n",
       "    </tr>\n",
       "    <tr>\n",
       "      <th>50%</th>\n",
       "      <td>4.000000</td>\n",
       "      <td>3.000000</td>\n",
       "      <td>2207.000000</td>\n",
       "      <td>570000.000000</td>\n",
       "    </tr>\n",
       "    <tr>\n",
       "      <th>75%</th>\n",
       "      <td>4.000000</td>\n",
       "      <td>4.000000</td>\n",
       "      <td>2883.000000</td>\n",
       "      <td>725000.000000</td>\n",
       "    </tr>\n",
       "    <tr>\n",
       "      <th>max</th>\n",
       "      <td>6.000000</td>\n",
       "      <td>6.000000</td>\n",
       "      <td>7323.000000</td>\n",
       "      <td>999999.000000</td>\n",
       "    </tr>\n",
       "  </tbody>\n",
       "</table>\n",
       "</div>"
      ],
      "text/plain": [
       "         Bedrooms   Bathrooms         sqft          Price\n",
       "count  639.000000  639.000000   639.000000     639.000000\n",
       "mean     3.721440    2.888889  2354.095462  602101.237872\n",
       "std      0.938898    0.972273   933.326090  165022.828003\n",
       "min      1.000000    1.000000   487.000000  209900.000000\n",
       "25%      3.000000    2.000000  1707.000000  475000.000000\n",
       "50%      4.000000    3.000000  2207.000000  570000.000000\n",
       "75%      4.000000    4.000000  2883.000000  725000.000000\n",
       "max      6.000000    6.000000  7323.000000  999999.000000"
      ]
     },
     "execution_count": 4,
     "metadata": {},
     "output_type": "execute_result"
    }
   ],
   "source": [
    "#numberical data summary\n",
    "df.describe()"
   ]
  },
  {
   "cell_type": "code",
   "execution_count": 5,
   "metadata": {},
   "outputs": [
    {
     "name": "stderr",
     "output_type": "stream",
     "text": [
      "/home/rdcord/.local/lib/python3.8/site-packages/seaborn/distributions.py:2551: FutureWarning: `distplot` is a deprecated function and will be removed in a future version. Please adapt your code to use either `displot` (a figure-level function with similar flexibility) or `histplot` (an axes-level function for histograms).\n",
      "  warnings.warn(msg, FutureWarning)\n"
     ]
    },
    {
     "data": {
      "text/plain": [
       "<AxesSubplot:ylabel='Price'>"
      ]
     },
     "execution_count": 5,
     "metadata": {},
     "output_type": "execute_result"
    },
    {
     "data": {
      "image/png": "[encoded data removed]",
      "text/plain": [
       "<Figure size 1080x360 with 2 Axes>"
      ]
     },
     "metadata": {
      "needs_background": "light"
     },
     "output_type": "display_data"
    }
   ],
   "source": [
    "#access price distribution \n",
    "fig, axes = plt.subplots(1,2, figsize = (15,5))\n",
    "plt.suptitle(\"Price Distribution and Box Plot\", size=20)\n",
    "plt.tight_layout()\n",
    "sns.distplot(df['Price'],fit= norm,kde=False, color=\"b\",ax=axes[0])\n",
    "sns.boxplot(y='Price',data=df)"
   ]
  },
  {
   "cell_type": "code",
   "execution_count": 6,
   "metadata": {},
   "outputs": [
    {
     "data": {
      "image/png": "[encoded data removed]",
      "text/plain": [
       "<Figure size 432x432 with 3 Axes>"
      ]
     },
     "metadata": {
      "needs_background": "light"
     },
     "output_type": "display_data"
    },
    {
     "data": {
      "image/png": "[encoded data removed]",
      "text/plain": [
       "<Figure size 432x432 with 3 Axes>"
      ]
     },
     "metadata": {
      "needs_background": "light"
     },
     "output_type": "display_data"
    },
    {
     "data": {
      "image/png": "[encoded data removed]",
      "text/plain": [
       "<Figure size 432x432 with 3 Axes>"
      ]
     },
     "metadata": {
      "needs_background": "light"
     },
     "output_type": "display_data"
    }
   ],
   "source": [
    "#access price vs the other numeric features\n",
    "features = [\"Bedrooms\", \"Bathrooms\", \"sqft\"]\n",
    "for i in features:\n",
    "    sns.jointplot(data = df, x = i, y = \"Price\",kind=\"reg\")"
   ]
  },
  {
   "cell_type": "code",
   "execution_count": 7,
   "metadata": {},
   "outputs": [
    {
     "data": {
      "text/plain": [
       "<AxesSubplot:>"
      ]
     },
     "execution_count": 7,
     "metadata": {},
     "output_type": "execute_result"
    },
    {
     "data": {
      "image/png": "[encoded data removed]",
      "text/plain": [
       "<Figure size 720x720 with 2 Axes>"
      ]
     },
     "metadata": {
      "needs_background": "light"
     },
     "output_type": "display_data"
    }
   ],
   "source": [
    "corr = df.corr()\n",
    "mask = np.triu(np.ones_like(corr, dtype=bool))\n",
    "f, ax = plt.subplots(figsize=(10, 10))\n",
    "cmap = sns.diverging_palette(230, 20, as_cmap=True)\n",
    "sns.heatmap(corr, mask=mask, cmap=cmap, vmax=.3, center=0,\n",
    "            square=True, linewidths=.5, cbar_kws={\"shrink\": .5})"
   ]
  },
  {
   "cell_type": "code",
   "execution_count": 8,
   "metadata": {},
   "outputs": [
    {
     "name": "stdout",
     "output_type": "stream",
     "text": [
      "Bedrooms: 0\n",
      "Bathrooms: 1\n",
      "sqft: 4\n",
      "Price: 0\n"
     ]
    }
   ],
   "source": [
    "#checking for outliers\n",
    "for i in df: \n",
    "    outliers = df[df[i] > df[i].mean() + 3 * df[i].std()]\n",
    "    print(\"{}: {}\".format(i,outliers.shape[0]))"
   ]
  },
  {
   "cell_type": "markdown",
   "metadata": {},
   "source": [
    "## Feature Engineering"
   ]
  },
  {
   "cell_type": "code",
   "execution_count": 9,
   "metadata": {},
   "outputs": [],
   "source": [
    "#feature scaling\n",
    "features = [\"Bedrooms\",\"Bathrooms\",\"sqft\"]\n",
    "minMax = MinMaxScaler()\n",
    "scaledNumeric = minMax.fit_transform(df[features])\n"
   ]
  },
  {
   "cell_type": "code",
   "execution_count": 10,
   "metadata": {},
   "outputs": [],
   "source": [
    "split = train_test_split(df, images, test_size=0.20, random_state=42)\n",
    "(x_train_num, x_test_num, x_train_img, x_test_img) = split"
   ]
  },
  {
   "cell_type": "code",
   "execution_count": 11,
   "metadata": {},
   "outputs": [],
   "source": [
    "#built image generator\n",
    "datagen = ImageDataGenerator(\n",
    "        rotation_range=0.2,\n",
    "        width_shift_range=0.3,\n",
    "        height_shift_range=0.3,\n",
    "        rescale=1./255,\n",
    "        shear_range=0.2,\n",
    "        zoom_range=0.2,\n",
    "        fill_mode='nearest')"
   ]
  },
  {
   "cell_type": "code",
   "execution_count": 12,
   "metadata": {},
   "outputs": [],
   "source": [
    "#generate and save images\n",
    "folder = os.getcwd()+\"/house_gen_data\"\n",
    "batches = 30\n",
    "\n",
    "for filename in os.listdir(folder):\n",
    "    file_path = os.path.join(folder, filename)\n",
    "    try:\n",
    "        if os.path.isfile(file_path) or os.path.islink(file_path):\n",
    "            os.unlink(file_path)\n",
    "        elif os.path.isdir(file_path):\n",
    "            shutil.rmtree(file_path)\n",
    "    except Exception as e:\n",
    "        print('Failed to delete %s. Reason: %s' % (file_path, e))\n",
    "            \n",
    "while len([name for name in os.listdir(folder) if os.path.isfile(os.path.join(folder, name))]) != (len(x_train_img)*batches):\n",
    "    for filename in os.listdir(folder):\n",
    "        file_path = os.path.join(folder, filename)\n",
    "        try:\n",
    "            if os.path.isfile(file_path) or os.path.islink(file_path):\n",
    "                os.unlink(file_path)\n",
    "            elif os.path.isdir(file_path):\n",
    "                shutil.rmtree(file_path)\n",
    "        except Exception as e:\n",
    "            print('Failed to delete %s. Reason: %s' % (file_path, e))\n",
    "    aug = 0\n",
    "    for i in x_train_img:  \n",
    "        count = 0\n",
    "        pic_array = i.reshape((1,) + i.shape)\n",
    "        it = datagen.flow(pic_array, \n",
    "                          batch_size=1,\n",
    "                          shuffle=False,\n",
    "                          save_to_dir=os.getcwd()+\"/house_gen_data\",\n",
    "                          seed = 42,\n",
    "                          save_prefix=aug, \n",
    "                          save_format='jpeg')\n",
    "        for i in range(batches):\n",
    "            batch = it.next()\n",
    "        aug += 1\n"
   ]
  },
  {
   "cell_type": "code",
   "execution_count": 13,
   "metadata": {},
   "outputs": [],
   "source": [
    "#load new test images\n",
    "x_train_num = x_train_num.reset_index(drop = True)\n",
    "image_path = os.getcwd()+\"/house_gen_data\"\n",
    "images_test = [] \n",
    "\n",
    "for i in x_train_num.index.values:\n",
    "    house_images = os.path.sep.join([image_path, \"{}_0*\".format(i)])\n",
    "    images_paths = sorted(list(glob.glob(house_images)))\n",
    "    \n",
    "    for j in images_paths:\n",
    "        image = cv2.imread(j)\n",
    "        images_test.append(image)\n",
    "x_train_img = np.array(images_test)"
   ]
  },
  {
   "cell_type": "code",
   "execution_count": 14,
   "metadata": {},
   "outputs": [],
   "source": [
    "#expand numeric train data\n",
    "x_train_num = pd.DataFrame(np.repeat(x_train_num.values, 30, axis=0), columns=df.columns)"
   ]
  },
  {
   "cell_type": "code",
   "execution_count": 15,
   "metadata": {},
   "outputs": [
    {
     "data": {
      "text/plain": [
       "True"
      ]
     },
     "execution_count": 15,
     "metadata": {},
     "output_type": "execute_result"
    }
   ],
   "source": [
    "#validate the dimensions of image and numeric dfs match\n",
    "len(x_train_img) == len(x_train_num)"
   ]
  },
  {
   "cell_type": "code",
   "execution_count": 16,
   "metadata": {},
   "outputs": [
    {
     "name": "stdout",
     "output_type": "stream",
     "text": [
      "(15330,)\n",
      "(128, 64, 64, 3)\n",
      "(15330, 3)\n",
      "(128,)\n",
      "(128, 3)\n"
     ]
    }
   ],
   "source": [
    "maxPrice = x_train_num[\"Price\"].max() \n",
    "#final training datasets\n",
    "y_train = x_train_num['Price'] \n",
    "x_train_num = x_train_num.drop(columns = [\"Price\"]) \n",
    "\n",
    "#final testing datasets\n",
    "y_test = x_test_num['Price'] \n",
    "x_test_num = x_test_num.drop(columns = [\"Price\"])\n",
    "\n",
    "print(y_train.shape)\n",
    "print(x_test_img.shape)\n",
    "print(x_train_num.shape)\n",
    "print(y_test.shape)\n",
    "print(x_test_num.shape)"
   ]
  },
  {
   "cell_type": "markdown",
   "metadata": {},
   "source": [
    "## Neural Network"
   ]
  },
  {
   "cell_type": "code",
   "execution_count": 17,
   "metadata": {},
   "outputs": [],
   "source": [
    "#multi-payer perceptron \n",
    "def create_mlp(dim, regress=False):\n",
    "    model = Sequential()\n",
    "    model.add(Dense(8, input_dim=dim, activation=\"relu\"))\n",
    "    model.add(Dense(4, activation=\"relu\"))\n",
    "\n",
    "    if regress:\n",
    "        model.add(Dense(1, activation=\"linear\"))\n",
    "\n",
    "    return model"
   ]
  },
  {
   "cell_type": "code",
   "execution_count": 18,
   "metadata": {},
   "outputs": [],
   "source": [
    "#CNN\n",
    "def create_cnn(width, height, depth, filters=(16, 32, 64), regress=False):\n",
    "    inputShape = (height, width, depth)\n",
    "    chanDim = -1\n",
    "\n",
    "    inputs = Input(shape=inputShape)\n",
    "    for (i, f) in enumerate(filters):\n",
    "        if i == 0:\n",
    "            x = inputs\n",
    "        x = Conv2D(f, (3, 3), padding=\"same\")(x)\n",
    "        x = Activation(\"relu\")(x)\n",
    "        x = BatchNormalization(axis=chanDim)(x)\n",
    "        x = MaxPooling2D(pool_size=(2, 2))(x)\n",
    "    x = Flatten()(x)\n",
    "    x = Dense(16)(x)\n",
    "    x = Activation(\"relu\")(x)\n",
    "    x = BatchNormalization(axis=chanDim)(x)\n",
    "    x = Dropout(0.5)(x)\n",
    "    x = Dense(4)(x)\n",
    "    x = Activation(\"relu\")(x)\n",
    "\n",
    "    if regress:\n",
    "        x = Dense(1, activation=\"linear\")(x)\n",
    "\n",
    "    model = Model(inputs, x)\n",
    "\n",
    "    # return the CNN\n",
    "    return model\n"
   ]
  },
  {
   "cell_type": "code",
   "execution_count": 19,
   "metadata": {},
   "outputs": [],
   "source": [
    "mlp = create_mlp(x_train_num.shape[1], regress=False)\n",
    "cnn = create_cnn(64, 64, 3, regress=False)"
   ]
  },
  {
   "cell_type": "code",
   "execution_count": 20,
   "metadata": {},
   "outputs": [],
   "source": [
    "combinedInput = concatenate([mlp.output, cnn.output])"
   ]
  },
  {
   "cell_type": "code",
   "execution_count": 21,
   "metadata": {},
   "outputs": [],
   "source": [
    "x = Dense(4, activation=\"relu\")(combinedInput)\n",
    "x = Dense(1, activation=\"linear\")(x)"
   ]
  },
  {
   "cell_type": "code",
   "execution_count": null,
   "metadata": {},
   "outputs": [
    {
     "name": "stdout",
     "output_type": "stream",
     "text": [
      "Epoch 1/200\n",
      "1917/1917 [==============================] - 24s 13ms/step - loss: 97.2416 - val_loss: 97.1264\n",
      "Epoch 2/200\n",
      "1917/1917 [==============================] - 24s 12ms/step - loss: 97.0712 - val_loss: 96.9540\n",
      "Epoch 3/200\n",
      "1917/1917 [==============================] - 24s 12ms/step - loss: 96.9005 - val_loss: 96.7816\n",
      "Epoch 4/200\n",
      "1917/1917 [==============================] - 24s 13ms/step - loss: 96.7305 - val_loss: 96.6099\n",
      "Epoch 5/200\n",
      "1917/1917 [==============================] - 24s 13ms/step - loss: 96.5601 - val_loss: 96.4376\n",
      "Epoch 6/200\n",
      "1917/1917 [==============================] - 25s 13ms/step - loss: 96.3897 - val_loss: 96.2654\n",
      "Epoch 7/200\n",
      "1917/1917 [==============================] - 24s 13ms/step - loss: 96.2194 - val_loss: 96.0934\n",
      "Epoch 8/200\n",
      "1917/1917 [==============================] - 24s 13ms/step - loss: 96.0492 - val_loss: 95.9213\n",
      "Epoch 9/200\n",
      " 639/1917 [=========>....................] - ETA: 16s - loss: 95.9299"
     ]
    }
   ],
   "source": [
    "model = Model(inputs=[mlp.input, cnn.input], outputs=x)\n",
    "opt = Adam(lr=0.5)\n",
    "model.compile(loss=\"mean_absolute_percentage_error\", optimizer=opt)\n",
    "\n",
    "model.fit(\n",
    "    x=[x_train_num, x_train_img], y=y_train,\n",
    "    validation_data=([x_test_num, x_test_img], y_test),epochs=200, batch_size=8)"
   ]
  },
  {
   "cell_type": "code",
   "execution_count": 24,
   "metadata": {},
   "outputs": [
    {
     "name": "stdout",
     "output_type": "stream",
     "text": [
      "Predicting house prices...\n"
     ]
    }
   ],
   "source": [
    "print(\"Predicting house prices...\")\n",
    "import locale = model.predict([x_test_num, x_test_img])"
   ]
  },
  {
   "cell_type": "code",
   "execution_count": null,
   "metadata": {},
   "outputs": [],
   "source": [
    "r2_score(y_test, y_preds)"
   ]
  },
  {
   "cell_type": "code",
   "execution_count": 52,
   "metadata": {},
   "outputs": [
    {
     "ename": "ValueError",
     "evalue": "Found input variables with inconsistent numbers of samples: [2, 15330]",
     "output_type": "error",
     "traceback": [
      "\u001b[0;31m---------------------------------------------------------------------------\u001b[0m",
      "\u001b[0;31mValueError\u001b[0m                                Traceback (most recent call last)",
      "\u001b[0;32m<ipython-input-52-dea89bf3f044>\u001b[0m in \u001b[0;36m<module>\u001b[0;34m\u001b[0m\n\u001b[1;32m      8\u001b[0m \u001b[0;34m\u001b[0m\u001b[0m\n\u001b[1;32m      9\u001b[0m \u001b[0mgrid\u001b[0m \u001b[0;34m=\u001b[0m \u001b[0mRandomizedSearchCV\u001b[0m\u001b[0;34m(\u001b[0m\u001b[0mmodel\u001b[0m\u001b[0;34m,\u001b[0m \u001b[0mparam_grid\u001b[0m\u001b[0;34m,\u001b[0m\u001b[0mscoring\u001b[0m \u001b[0;34m=\u001b[0m \u001b[0;34m'neg_mean_squared_error'\u001b[0m\u001b[0;34m,\u001b[0m\u001b[0mrandom_state\u001b[0m\u001b[0;34m=\u001b[0m\u001b[0;36m0\u001b[0m\u001b[0;34m)\u001b[0m\u001b[0;34m\u001b[0m\u001b[0;34m\u001b[0m\u001b[0m\n\u001b[0;32m---> 10\u001b[0;31m \u001b[0mgrid_result\u001b[0m \u001b[0;34m=\u001b[0m \u001b[0mgrid\u001b[0m\u001b[0;34m.\u001b[0m\u001b[0mfit\u001b[0m\u001b[0;34m(\u001b[0m\u001b[0mx\u001b[0m\u001b[0;34m,\u001b[0m\u001b[0my\u001b[0m\u001b[0;34m)\u001b[0m\u001b[0;34m\u001b[0m\u001b[0;34m\u001b[0m\u001b[0m\n\u001b[0m",
      "\u001b[0;32m~/.local/lib/python3.8/site-packages/sklearn/utils/validation.py\u001b[0m in \u001b[0;36minner_f\u001b[0;34m(*args, **kwargs)\u001b[0m\n\u001b[1;32m     70\u001b[0m             warnings.warn(f\"Pass {args_msg} as keyword args. From version \"\n\u001b[1;32m     71\u001b[0m                           \u001b[0;34mf\"{version} passing these as positional arguments \"\u001b[0m\u001b[0;34m\u001b[0m\u001b[0;34m\u001b[0m\u001b[0m\n\u001b[0;32m---> 72\u001b[0;31m                           \"will result in an error\", FutureWarning)\n\u001b[0m\u001b[1;32m     73\u001b[0m             \u001b[0mkwargs\u001b[0m\u001b[0;34m.\u001b[0m\u001b[0mupdate\u001b[0m\u001b[0;34m(\u001b[0m\u001b[0mzip\u001b[0m\u001b[0;34m(\u001b[0m\u001b[0msig\u001b[0m\u001b[0;34m.\u001b[0m\u001b[0mparameters\u001b[0m\u001b[0;34m,\u001b[0m \u001b[0margs\u001b[0m\u001b[0;34m)\u001b[0m\u001b[0;34m)\u001b[0m\u001b[0;34m\u001b[0m\u001b[0;34m\u001b[0m\u001b[0m\n\u001b[1;32m     74\u001b[0m             \u001b[0;32mreturn\u001b[0m \u001b[0mf\u001b[0m\u001b[0;34m(\u001b[0m\u001b[0;34m**\u001b[0m\u001b[0mkwargs\u001b[0m\u001b[0;34m)\u001b[0m\u001b[0;34m\u001b[0m\u001b[0;34m\u001b[0m\u001b[0m\n",
      "\u001b[0;32m~/.local/lib/python3.8/site-packages/sklearn/model_selection/_search.py\u001b[0m in \u001b[0;36mfit\u001b[0;34m(self, X, y, groups, **fit_params)\u001b[0m\n\u001b[1;32m    674\u001b[0m                   \u001b[0;31m`\u001b[0m\u001b[0m_checked_cv_orig\u001b[0m\u001b[0;31m`\u001b[0m \u001b[0mattribute\u001b[0m\u001b[0;34m.\u001b[0m\u001b[0;34m\u001b[0m\u001b[0;34m\u001b[0m\u001b[0m\n\u001b[1;32m    675\u001b[0m                 \u001b[0;34m-\u001b[0m \u001b[0man\u001b[0m \u001b[0moptional\u001b[0m\u001b[0;31m \u001b[0m\u001b[0;31m`\u001b[0m\u001b[0mmore_results\u001b[0m\u001b[0;31m`\u001b[0m \u001b[0mdict\u001b[0m\u001b[0;34m.\u001b[0m \u001b[0mEach\u001b[0m \u001b[0mkey\u001b[0m \u001b[0mwill\u001b[0m \u001b[0mbe\u001b[0m \u001b[0madded\u001b[0m \u001b[0mto\u001b[0m\u001b[0;34m\u001b[0m\u001b[0;34m\u001b[0m\u001b[0m\n\u001b[0;32m--> 676\u001b[0;31m                   \u001b[0mthe\u001b[0m\u001b[0;31m \u001b[0m\u001b[0;31m`\u001b[0m\u001b[0mcv_results_\u001b[0m\u001b[0;31m`\u001b[0m \u001b[0mattribute\u001b[0m\u001b[0;34m.\u001b[0m \u001b[0mValues\u001b[0m \u001b[0mshould\u001b[0m \u001b[0mbe\u001b[0m \u001b[0mlists\u001b[0m \u001b[0mof\u001b[0m\u001b[0;34m\u001b[0m\u001b[0;34m\u001b[0m\u001b[0m\n\u001b[0m\u001b[1;32m    677\u001b[0m                   \u001b[0mlength\u001b[0m\u001b[0;31m \u001b[0m\u001b[0;31m`\u001b[0m\u001b[0mn_candidates\u001b[0m\u001b[0;31m`\u001b[0m\u001b[0;34m\u001b[0m\u001b[0;34m\u001b[0m\u001b[0m\n\u001b[1;32m    678\u001b[0m \u001b[0;34m\u001b[0m\u001b[0m\n",
      "\u001b[0;32m~/.local/lib/python3.8/site-packages/sklearn/utils/validation.py\u001b[0m in \u001b[0;36mindexable\u001b[0;34m(*iterables)\u001b[0m\n\u001b[1;32m    290\u001b[0m     \u001b[0mcan\u001b[0m \u001b[0mbe\u001b[0m \u001b[0mindexed\u001b[0m \u001b[0mby\u001b[0m \u001b[0mconverting\u001b[0m \u001b[0msparse\u001b[0m \u001b[0mmatrices\u001b[0m \u001b[0mto\u001b[0m \u001b[0mcsr\u001b[0m \u001b[0;32mand\u001b[0m \u001b[0mconverting\u001b[0m\u001b[0;34m\u001b[0m\u001b[0;34m\u001b[0m\u001b[0m\n\u001b[1;32m    291\u001b[0m     \u001b[0mnon\u001b[0m\u001b[0;34m-\u001b[0m\u001b[0minterable\u001b[0m \u001b[0mobjects\u001b[0m \u001b[0mto\u001b[0m \u001b[0marrays\u001b[0m\u001b[0;34m.\u001b[0m\u001b[0;34m\u001b[0m\u001b[0;34m\u001b[0m\u001b[0m\n\u001b[0;32m--> 292\u001b[0;31m \u001b[0;34m\u001b[0m\u001b[0m\n\u001b[0m\u001b[1;32m    293\u001b[0m     \u001b[0mParameters\u001b[0m\u001b[0;34m\u001b[0m\u001b[0;34m\u001b[0m\u001b[0m\n\u001b[1;32m    294\u001b[0m     \u001b[0;34m-\u001b[0m\u001b[0;34m-\u001b[0m\u001b[0;34m-\u001b[0m\u001b[0;34m-\u001b[0m\u001b[0;34m-\u001b[0m\u001b[0;34m-\u001b[0m\u001b[0;34m-\u001b[0m\u001b[0;34m-\u001b[0m\u001b[0;34m-\u001b[0m\u001b[0;34m-\u001b[0m\u001b[0;34m\u001b[0m\u001b[0;34m\u001b[0m\u001b[0m\n",
      "\u001b[0;32m~/.local/lib/python3.8/site-packages/sklearn/utils/validation.py\u001b[0m in \u001b[0;36mcheck_consistent_length\u001b[0;34m(*arrays)\u001b[0m\n\u001b[1;32m    253\u001b[0m     \u001b[0mParameters\u001b[0m\u001b[0;34m\u001b[0m\u001b[0;34m\u001b[0m\u001b[0m\n\u001b[1;32m    254\u001b[0m     \u001b[0;34m-\u001b[0m\u001b[0;34m-\u001b[0m\u001b[0;34m-\u001b[0m\u001b[0;34m-\u001b[0m\u001b[0;34m-\u001b[0m\u001b[0;34m-\u001b[0m\u001b[0;34m-\u001b[0m\u001b[0;34m-\u001b[0m\u001b[0;34m-\u001b[0m\u001b[0;34m-\u001b[0m\u001b[0;34m\u001b[0m\u001b[0;34m\u001b[0m\u001b[0m\n\u001b[0;32m--> 255\u001b[0;31m     \u001b[0;34m*\u001b[0m\u001b[0marrays\u001b[0m \u001b[0;34m:\u001b[0m \u001b[0mlist\u001b[0m \u001b[0;32mor\u001b[0m \u001b[0mtuple\u001b[0m \u001b[0mof\u001b[0m \u001b[0minput\u001b[0m \u001b[0mobjects\u001b[0m\u001b[0;34m.\u001b[0m\u001b[0;34m\u001b[0m\u001b[0;34m\u001b[0m\u001b[0m\n\u001b[0m\u001b[1;32m    256\u001b[0m         \u001b[0mObjects\u001b[0m \u001b[0mthat\u001b[0m \u001b[0mwill\u001b[0m \u001b[0mbe\u001b[0m \u001b[0mchecked\u001b[0m \u001b[0;32mfor\u001b[0m \u001b[0mconsistent\u001b[0m \u001b[0mlength\u001b[0m\u001b[0;34m.\u001b[0m\u001b[0;34m\u001b[0m\u001b[0;34m\u001b[0m\u001b[0m\n\u001b[1;32m    257\u001b[0m     \"\"\"\n",
      "\u001b[0;31mValueError\u001b[0m: Found input variables with inconsistent numbers of samples: [2, 15330]"
     ]
    }
   ],
   "source": [
    "#optimize batch size and epocs\n",
    "batch_size = [10,30,50,75,100]\n",
    "epochs = [10, 50, 100]\n",
    "param_grid = dict(batch_size=batch_size, epochs=epochs)\n",
    "\n",
    "x=[x_train_num, x_train_img]\n",
    "y=y_train\n",
    "\n",
    "grid = RandomizedSearchCV(model, param_grid,scoring = 'neg_mean_squared_error',random_state=0)\n",
    "grid_result = grid.fit(x,y)"
   ]
  },
  {
   "cell_type": "code",
   "execution_count": 28,
   "metadata": {},
   "outputs": [
    {
     "name": "stdout",
     "output_type": "stream",
     "text": [
      "[INFO] avg. house price: $602,101.24, std house price: $165,022.83\n",
      "[INFO] mean: 98.62%, std: 0.39%\n"
     ]
    }
   ],
   "source": [
    "\n",
    "# compute the difference between the *predicted* house prices and the\n",
    "# *actual* house prices, then compute the percentage difference and\n",
    "# the absolute percentage difference\n",
    "diff = preds.flatten() - y_test\n",
    "percentDiff = (diff / y_test) * 100\n",
    "absPercentDiff = np.abs(percentDiff)\n",
    "\n",
    "# compute the mean and standard deviation of the absolute percentage\n",
    "# difference\n",
    "mean = np.mean(absPercentDiff)\n",
    "std = np.std(absPercentDiff)\n",
    "\n",
    "# finally, show some statistics on our model\n",
    "locale.setlocale(locale.LC_ALL, \"en_US.UTF-8\")\n",
    "print(\"[INFO] avg. house price: {}, std house price: {}\".format(\n",
    "\tlocale.currency(df[\"Price\"].mean(), grouping=True),\n",
    "\tlocale.currency(df[\"Price\"].std(), grouping=True)))\n",
    "print(\"[INFO] mean: {:.2f}%, std: {:.2f}%\".format(mean, std))"
   ]
  },
  {
   "cell_type": "code",
   "execution_count": 29,
   "metadata": {},
   "outputs": [
    {
     "data": {
      "text/plain": [
       "array([[7630.177],\n",
       "       [7630.177],\n",
       "       [7630.177],\n",
       "       [7630.177],\n",
       "       [7630.177],\n",
       "       [7630.177],\n",
       "       [7630.177],\n",
       "       [7630.177],\n",
       "       [7630.177],\n",
       "       [7630.177],\n",
       "       [7630.177],\n",
       "       [7630.177],\n",
       "       [7630.177],\n",
       "       [7630.177],\n",
       "       [7630.177],\n",
       "       [7630.177],\n",
       "       [7630.177],\n",
       "       [7630.177],\n",
       "       [7630.177],\n",
       "       [7630.177],\n",
       "       [7630.177],\n",
       "       [7630.177],\n",
       "       [7630.177],\n",
       "       [7630.177],\n",
       "       [7630.177],\n",
       "       [7630.177],\n",
       "       [7630.177],\n",
       "       [7630.177],\n",
       "       [7630.177],\n",
       "       [7630.177],\n",
       "       [7630.177],\n",
       "       [7630.177],\n",
       "       [7630.177],\n",
       "       [7630.177],\n",
       "       [7630.177],\n",
       "       [7630.177],\n",
       "       [7630.177],\n",
       "       [7630.177],\n",
       "       [7630.177],\n",
       "       [7630.177],\n",
       "       [7630.177],\n",
       "       [7630.177],\n",
       "       [7630.177],\n",
       "       [7630.177],\n",
       "       [7630.177],\n",
       "       [7630.177],\n",
       "       [7630.177],\n",
       "       [7630.177],\n",
       "       [7630.177],\n",
       "       [7630.177],\n",
       "       [7630.177],\n",
       "       [7630.177],\n",
       "       [7630.177],\n",
       "       [7630.177],\n",
       "       [7630.177],\n",
       "       [7630.177],\n",
       "       [7630.177],\n",
       "       [7630.177],\n",
       "       [7630.177],\n",
       "       [7630.177],\n",
       "       [7630.177],\n",
       "       [7630.177],\n",
       "       [7630.177],\n",
       "       [7630.177],\n",
       "       [7630.177],\n",
       "       [7630.177],\n",
       "       [7630.177],\n",
       "       [7630.177],\n",
       "       [7630.177],\n",
       "       [7630.177],\n",
       "       [7630.177],\n",
       "       [7630.177],\n",
       "       [7630.177],\n",
       "       [7630.177],\n",
       "       [7630.177],\n",
       "       [7630.177],\n",
       "       [7630.177],\n",
       "       [7630.177],\n",
       "       [7630.177],\n",
       "       [7630.177],\n",
       "       [7630.177],\n",
       "       [7630.177],\n",
       "       [7630.177],\n",
       "       [7630.177],\n",
       "       [7630.177],\n",
       "       [7630.177],\n",
       "       [7630.177],\n",
       "       [7630.177],\n",
       "       [7630.177],\n",
       "       [7630.177],\n",
       "       [7630.177],\n",
       "       [7630.177],\n",
       "       [7630.177],\n",
       "       [7630.177],\n",
       "       [7630.177],\n",
       "       [7630.177],\n",
       "       [7630.177],\n",
       "       [7630.177],\n",
       "       [7630.177],\n",
       "       [7630.177],\n",
       "       [7630.177],\n",
       "       [7630.177],\n",
       "       [7630.177],\n",
       "       [7630.177],\n",
       "       [7630.177],\n",
       "       [7630.177],\n",
       "       [7630.177],\n",
       "       [7630.177],\n",
       "       [7630.177],\n",
       "       [7630.177],\n",
       "       [7630.177],\n",
       "       [7630.177],\n",
       "       [7630.177],\n",
       "       [7630.177],\n",
       "       [7630.177],\n",
       "       [7630.177],\n",
       "       [7630.177],\n",
       "       [7630.177],\n",
       "       [7630.177],\n",
       "       [7630.177],\n",
       "       [7630.177],\n",
       "       [7630.177],\n",
       "       [7630.177],\n",
       "       [7630.177],\n",
       "       [7630.177],\n",
       "       [7630.177],\n",
       "       [7630.177],\n",
       "       [7630.177]], dtype=float32)"
      ]
     },
     "execution_count": 29,
     "metadata": {},
     "output_type": "execute_result"
    }
   ],
   "source": [
    "preds"
   ]
  },
  {
   "cell_type": "code",
   "execution_count": 30,
   "metadata": {},
   "outputs": [
    {
     "data": {
      "text/plain": [
       "86     712500\n",
       "353    475000\n",
       "570    975000\n",
       "212    515000\n",
       "626    482000\n",
       "        ...  \n",
       "425    455000\n",
       "244    754000\n",
       "248    915000\n",
       "369    585000\n",
       "430    488500\n",
       "Name: Price, Length: 128, dtype: int64"
      ]
     },
     "execution_count": 30,
     "metadata": {},
     "output_type": "execute_result"
    }
   ],
   "source": [
    "y_test"
   ]
  },
  {
   "cell_type": "code",
   "execution_count": null,
   "metadata": {},
   "outputs": [],
   "source": []
  }
 ],
 "metadata": {
  "kernelspec": {
   "display_name": "Python 3",
   "language": "python",
   "name": "python3"
  },
  "language_info": {
   "codemirror_mode": {
    "name": "ipython",
    "version": 3
   },
   "file_extension": ".py",
   "mimetype": "text/x-python",
   "name": "python",
   "nbconvert_exporter": "python",
   "pygments_lexer": "ipython3",
   "version": "3.8.5"
  }
 },
 "nbformat": 4,
 "nbformat_minor": 2
}
