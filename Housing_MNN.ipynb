{
 "cells": [
  {
   "cell_type": "markdown",
   "metadata": {},
   "source": [
    "# Housing Price Prediction: Multi Input Neural Network\n",
    "\n",
    "## COMP 4449 Capstone\n",
    "Rodney Cordova"
   ]
  },
  {
   "cell_type": "markdown",
   "metadata": {},
   "source": [
    "## Import modules"
   ]
  },
  {
   "cell_type": "code",
   "execution_count": 31,
   "metadata": {},
   "outputs": [],
   "source": [
    "import numpy as np \n",
    "import pandas as pd \n",
    "import requests \n",
    "import matplotlib.pyplot as plt \n",
    "import seaborn as sns\n",
    "import os\n",
    "import glob\n",
    "import cv2\n",
    "from scipy.stats import norm\n",
    "from sklearn.preprocessing import MinMaxScaler\n",
    "from sklearn.model_selection import train_test_split\n",
    "import shutil\n",
    "from keras.preprocessing.image import ImageDataGenerator, load_img, img_to_array\n",
    "from tensorflow.keras.models import Sequential\n",
    "from tensorflow.keras.layers import BatchNormalization\n",
    "from tensorflow.keras.layers import Conv2D\n",
    "from tensorflow.keras.layers import MaxPooling2D\n",
    "from tensorflow.keras.layers import Activation\n",
    "from tensorflow.keras.layers import Dropout\n",
    "from tensorflow.keras.layers import Dense\n",
    "from tensorflow.keras.layers import Flatten\n",
    "from tensorflow.keras.layers import Input\n",
    "from tensorflow.keras.models import Model\n",
    "from tensorflow.keras.optimizers import Adam\n",
    "from sklearn.model_selection import train_test_split\n",
    "from tensorflow.keras.layers import concatenate\n",
    "from sklearn.model_selection import GridSearchCV\n",
    "from sklearn.model_selection import RandomizedSearchCV\n",
    "import locale"
   ]
  },
  {
   "cell_type": "markdown",
   "metadata": {},
   "source": [
    "## Loan Numeric Data"
   ]
  },
  {
   "cell_type": "code",
   "execution_count": 2,
   "metadata": {},
   "outputs": [
    {
     "data": {
      "text/html": [
       "<div>\n",
       "<style scoped>\n",
       "    .dataframe tbody tr th:only-of-type {\n",
       "        vertical-align: middle;\n",
       "    }\n",
       "\n",
       "    .dataframe tbody tr th {\n",
       "        vertical-align: top;\n",
       "    }\n",
       "\n",
       "    .dataframe thead th {\n",
       "        text-align: right;\n",
       "    }\n",
       "</style>\n",
       "<table border=\"1\" class=\"dataframe\">\n",
       "  <thead>\n",
       "    <tr style=\"text-align: right;\">\n",
       "      <th></th>\n",
       "      <th>Bedrooms</th>\n",
       "      <th>Bathrooms</th>\n",
       "      <th>sqft</th>\n",
       "      <th>Price</th>\n",
       "    </tr>\n",
       "  </thead>\n",
       "  <tbody>\n",
       "    <tr>\n",
       "      <th>0</th>\n",
       "      <td>4</td>\n",
       "      <td>3</td>\n",
       "      <td>1634</td>\n",
       "      <td>452000</td>\n",
       "    </tr>\n",
       "    <tr>\n",
       "      <th>1</th>\n",
       "      <td>4</td>\n",
       "      <td>3</td>\n",
       "      <td>2037</td>\n",
       "      <td>450000</td>\n",
       "    </tr>\n",
       "    <tr>\n",
       "      <th>2</th>\n",
       "      <td>4</td>\n",
       "      <td>3</td>\n",
       "      <td>1879</td>\n",
       "      <td>495000</td>\n",
       "    </tr>\n",
       "    <tr>\n",
       "      <th>3</th>\n",
       "      <td>4</td>\n",
       "      <td>2</td>\n",
       "      <td>1976</td>\n",
       "      <td>498900</td>\n",
       "    </tr>\n",
       "    <tr>\n",
       "      <th>4</th>\n",
       "      <td>3</td>\n",
       "      <td>2</td>\n",
       "      <td>1667</td>\n",
       "      <td>450000</td>\n",
       "    </tr>\n",
       "    <tr>\n",
       "      <th>5</th>\n",
       "      <td>3</td>\n",
       "      <td>2</td>\n",
       "      <td>1732</td>\n",
       "      <td>470000</td>\n",
       "    </tr>\n",
       "    <tr>\n",
       "      <th>6</th>\n",
       "      <td>3</td>\n",
       "      <td>3</td>\n",
       "      <td>1522</td>\n",
       "      <td>455000</td>\n",
       "    </tr>\n",
       "    <tr>\n",
       "      <th>7</th>\n",
       "      <td>4</td>\n",
       "      <td>3</td>\n",
       "      <td>2137</td>\n",
       "      <td>479900</td>\n",
       "    </tr>\n",
       "    <tr>\n",
       "      <th>8</th>\n",
       "      <td>4</td>\n",
       "      <td>4</td>\n",
       "      <td>1978</td>\n",
       "      <td>479000</td>\n",
       "    </tr>\n",
       "    <tr>\n",
       "      <th>9</th>\n",
       "      <td>4</td>\n",
       "      <td>4</td>\n",
       "      <td>3610</td>\n",
       "      <td>692200</td>\n",
       "    </tr>\n",
       "  </tbody>\n",
       "</table>\n",
       "</div>"
      ],
      "text/plain": [
       "   Bedrooms  Bathrooms  sqft   Price\n",
       "0         4          3  1634  452000\n",
       "1         4          3  2037  450000\n",
       "2         4          3  1879  495000\n",
       "3         4          2  1976  498900\n",
       "4         3          2  1667  450000\n",
       "5         3          2  1732  470000\n",
       "6         3          3  1522  455000\n",
       "7         4          3  2137  479900\n",
       "8         4          4  1978  479000\n",
       "9         4          4  3610  692200"
      ]
     },
     "execution_count": 2,
     "metadata": {},
     "output_type": "execute_result"
    }
   ],
   "source": [
    "file = os.getcwd()+\"/house_image_data\"+\"/house_pricing.csv\"\n",
    "df = pd.read_csv(file)\n",
    "df.drop(columns = [\"id\"], inplace=True)\n",
    "df.head(10)"
   ]
  },
  {
   "cell_type": "markdown",
   "metadata": {},
   "source": [
    "## Load Image Data"
   ]
  },
  {
   "cell_type": "code",
   "execution_count": 3,
   "metadata": {},
   "outputs": [],
   "source": [
    "image_path = os.getcwd()+\"/house_image_data\"\n",
    "images = [] \n",
    "\n",
    "for i in df.index.values: \n",
    "    house_images = os.path.sep.join([image_path, \"{}-*\".format(i + 1)])\n",
    "    images_paths = sorted(list(glob.glob(house_images)))\n",
    "    inputImages = []\n",
    "    outputImage = np.zeros((64, 64, 3), dtype=\"uint8\")\n",
    "    \n",
    "    for j in images_paths:\n",
    "        image = cv2.imread(j)\n",
    "        image = cv2.resize(image, (32, 32))\n",
    "        inputImages.append(image)\n",
    "    \n",
    "    outputImage[0:32, 0:32] = inputImages[0]\n",
    "    outputImage[0:32, 32:64] = inputImages[1]\n",
    "    outputImage[32:64, 32:64] = inputImages[2]\n",
    "    outputImage[32:64, 0:32] = inputImages[3]\n",
    "    \n",
    "    images.append(outputImage)\n",
    "\n",
    "images = np.array(images)"
   ]
  },
  {
   "cell_type": "markdown",
   "metadata": {},
   "source": [
    "## EDA "
   ]
  },
  {
   "cell_type": "code",
   "execution_count": 4,
   "metadata": {},
   "outputs": [
    {
     "data": {
      "text/html": [
       "<div>\n",
       "<style scoped>\n",
       "    .dataframe tbody tr th:only-of-type {\n",
       "        vertical-align: middle;\n",
       "    }\n",
       "\n",
       "    .dataframe tbody tr th {\n",
       "        vertical-align: top;\n",
       "    }\n",
       "\n",
       "    .dataframe thead th {\n",
       "        text-align: right;\n",
       "    }\n",
       "</style>\n",
       "<table border=\"1\" class=\"dataframe\">\n",
       "  <thead>\n",
       "    <tr style=\"text-align: right;\">\n",
       "      <th></th>\n",
       "      <th>Bedrooms</th>\n",
       "      <th>Bathrooms</th>\n",
       "      <th>sqft</th>\n",
       "      <th>Price</th>\n",
       "    </tr>\n",
       "  </thead>\n",
       "  <tbody>\n",
       "    <tr>\n",
       "      <th>count</th>\n",
       "      <td>639.000000</td>\n",
       "      <td>639.000000</td>\n",
       "      <td>639.000000</td>\n",
       "      <td>639.000000</td>\n",
       "    </tr>\n",
       "    <tr>\n",
       "      <th>mean</th>\n",
       "      <td>3.721440</td>\n",
       "      <td>2.888889</td>\n",
       "      <td>2354.095462</td>\n",
       "      <td>602101.237872</td>\n",
       "    </tr>\n",
       "    <tr>\n",
       "      <th>std</th>\n",
       "      <td>0.938898</td>\n",
       "      <td>0.972273</td>\n",
       "      <td>933.326090</td>\n",
       "      <td>165022.828003</td>\n",
       "    </tr>\n",
       "    <tr>\n",
       "      <th>min</th>\n",
       "      <td>1.000000</td>\n",
       "      <td>1.000000</td>\n",
       "      <td>487.000000</td>\n",
       "      <td>209900.000000</td>\n",
       "    </tr>\n",
       "    <tr>\n",
       "      <th>25%</th>\n",
       "      <td>3.000000</td>\n",
       "      <td>2.000000</td>\n",
       "      <td>1707.000000</td>\n",
       "      <td>475000.000000</td>\n",
       "    </tr>\n",
       "    <tr>\n",
       "      <th>50%</th>\n",
       "      <td>4.000000</td>\n",
       "      <td>3.000000</td>\n",
       "      <td>2207.000000</td>\n",
       "      <td>570000.000000</td>\n",
       "    </tr>\n",
       "    <tr>\n",
       "      <th>75%</th>\n",
       "      <td>4.000000</td>\n",
       "      <td>4.000000</td>\n",
       "      <td>2883.000000</td>\n",
       "      <td>725000.000000</td>\n",
       "    </tr>\n",
       "    <tr>\n",
       "      <th>max</th>\n",
       "      <td>6.000000</td>\n",
       "      <td>6.000000</td>\n",
       "      <td>7323.000000</td>\n",
       "      <td>999999.000000</td>\n",
       "    </tr>\n",
       "  </tbody>\n",
       "</table>\n",
       "</div>"
      ],
      "text/plain": [
       "         Bedrooms   Bathrooms         sqft          Price\n",
       "count  639.000000  639.000000   639.000000     639.000000\n",
       "mean     3.721440    2.888889  2354.095462  602101.237872\n",
       "std      0.938898    0.972273   933.326090  165022.828003\n",
       "min      1.000000    1.000000   487.000000  209900.000000\n",
       "25%      3.000000    2.000000  1707.000000  475000.000000\n",
       "50%      4.000000    3.000000  2207.000000  570000.000000\n",
       "75%      4.000000    4.000000  2883.000000  725000.000000\n",
       "max      6.000000    6.000000  7323.000000  999999.000000"
      ]
     },
     "execution_count": 4,
     "metadata": {},
     "output_type": "execute_result"
    }
   ],
   "source": [
    "#numberical data summary\n",
    "df.describe()"
   ]
  },
  {
   "cell_type": "code",
   "execution_count": 5,
   "metadata": {},
   "outputs": [
    {
     "name": "stderr",
     "output_type": "stream",
     "text": [
      "/home/rdcord/.local/lib/python3.8/site-packages/seaborn/distributions.py:2551: FutureWarning: `distplot` is a deprecated function and will be removed in a future version. Please adapt your code to use either `displot` (a figure-level function with similar flexibility) or `histplot` (an axes-level function for histograms).\n",
      "  warnings.warn(msg, FutureWarning)\n"
     ]
    },
    {
     "data": {
      "text/plain": [
       "<AxesSubplot:ylabel='Price'>"
      ]
     },
     "execution_count": 5,
     "metadata": {},
     "output_type": "execute_result"
    },
    {
     "data": {
      "image/png": "[encoded data removed]",
      "text/plain": [
       "<Figure size 1080x360 with 2 Axes>"
      ]
     },
     "metadata": {
      "needs_background": "light"
     },
     "output_type": "display_data"
    }
   ],
   "source": [
    "#access price distribution \n",
    "fig, axes = plt.subplots(1,2, figsize = (15,5))\n",
    "plt.suptitle(\"Price Distribution and Box Plot\", size=20)\n",
    "plt.tight_layout()\n",
    "sns.distplot(df['Price'],fit= norm,kde=False, color=\"b\",ax=axes[0])\n",
    "sns.boxplot(y='Price',data=df)"
   ]
  },
  {
   "cell_type": "code",
   "execution_count": 6,
   "metadata": {},
   "outputs": [
    {
     "data": {
      "image/png": "[encoded data removed]",
      "text/plain": [
       "<Figure size 432x432 with 3 Axes>"
      ]
     },
     "metadata": {
      "needs_background": "light"
     },
     "output_type": "display_data"
    },
    {
     "data": {
      "image/png": "[encoded data removed]",
      "text/plain": [
       "<Figure size 432x432 with 3 Axes>"
      ]
     },
     "metadata": {
      "needs_background": "light"
     },
     "output_type": "display_data"
    },
    {
     "data": {
      "image/png": "[encoded data removed]",
      "text/plain": [
       "<Figure size 432x432 with 3 Axes>"
      ]
     },
     "metadata": {
      "needs_background": "light"
     },
     "output_type": "display_data"
    }
   ],
   "source": [
    "#access price vs the other numeric features\n",
    "features = [\"Bedrooms\", \"Bathrooms\", \"sqft\"]\n",
    "for i in features:\n",
    "    sns.jointplot(data = df, x = i, y = \"Price\",kind=\"reg\")"
   ]
  },
  {
   "cell_type": "code",
   "execution_count": 7,
   "metadata": {},
   "outputs": [
    {
     "data": {
      "text/plain": [
       "<AxesSubplot:>"
      ]
     },
     "execution_count": 7,
     "metadata": {},
     "output_type": "execute_result"
    },
    {
     "data": {
      "image/png": "[encoded data removed]",
      "text/plain": [
       "<Figure size 720x720 with 2 Axes>"
      ]
     },
     "metadata": {
      "needs_background": "light"
     },
     "output_type": "display_data"
    }
   ],
   "source": [
    "corr = df.corr()\n",
    "mask = np.triu(np.ones_like(corr, dtype=bool))\n",
    "f, ax = plt.subplots(figsize=(10, 10))\n",
    "cmap = sns.diverging_palette(230, 20, as_cmap=True)\n",
    "sns.heatmap(corr, mask=mask, cmap=cmap, vmax=.3, center=0,\n",
    "            square=True, linewidths=.5, cbar_kws={\"shrink\": .5})"
   ]
  },
  {
   "cell_type": "code",
   "execution_count": 8,
   "metadata": {},
   "outputs": [
    {
     "name": "stdout",
     "output_type": "stream",
     "text": [
      "Bedrooms: 0\n",
      "Bathrooms: 1\n",
      "sqft: 4\n",
      "Price: 0\n"
     ]
    }
   ],
   "source": [
    "#checking for outliers\n",
    "for i in df: \n",
    "    outliers = df[df[i] > df[i].mean() + 3 * df[i].std()]\n",
    "    print(\"{}: {}\".format(i,outliers.shape[0]))"
   ]
  },
  {
   "cell_type": "markdown",
   "metadata": {},
   "source": [
    "## Feature Engineering"
   ]
  },
  {
   "cell_type": "code",
   "execution_count": 9,
   "metadata": {},
   "outputs": [],
   "source": [
    "#feature scaling\n",
    "features = [\"Bedrooms\",\"Bathrooms\",\"sqft\"]\n",
    "minMax = MinMaxScaler()\n",
    "scaledNumeric = minMax.fit_transform(df[features])\n"
   ]
  },
  {
   "cell_type": "code",
   "execution_count": 10,
   "metadata": {},
   "outputs": [],
   "source": [
    "split = train_test_split(df, images, test_size=0.20, random_state=42)\n",
    "(x_train_num, x_test_num, x_train_img, x_test_img) = split"
   ]
  },
  {
   "cell_type": "code",
   "execution_count": 11,
   "metadata": {},
   "outputs": [],
   "source": [
    "#built image generator\n",
    "datagen = ImageDataGenerator(\n",
    "        rotation_range=0.2,\n",
    "        width_shift_range=0.3,\n",
    "        height_shift_range=0.3,\n",
    "        rescale=1./255,\n",
    "        shear_range=0.2,\n",
    "        zoom_range=0.2,\n",
    "        fill_mode='nearest')"
   ]
  },
  {
   "cell_type": "code",
   "execution_count": 12,
   "metadata": {},
   "outputs": [],
   "source": [
    "#generate and save images\n",
    "folder = os.getcwd()+\"/house_gen_data\"\n",
    "batches = 30\n",
    "\n",
    "for filename in os.listdir(folder):\n",
    "    file_path = os.path.join(folder, filename)\n",
    "    try:\n",
    "        if os.path.isfile(file_path) or os.path.islink(file_path):\n",
    "            os.unlink(file_path)\n",
    "        elif os.path.isdir(file_path):\n",
    "            shutil.rmtree(file_path)\n",
    "    except Exception as e:\n",
    "        print('Failed to delete %s. Reason: %s' % (file_path, e))\n",
    "            \n",
    "while len([name for name in os.listdir(folder) if os.path.isfile(os.path.join(folder, name))]) != (len(x_train_img)*batches):\n",
    "    for filename in os.listdir(folder):\n",
    "        file_path = os.path.join(folder, filename)\n",
    "        try:\n",
    "            if os.path.isfile(file_path) or os.path.islink(file_path):\n",
    "                os.unlink(file_path)\n",
    "            elif os.path.isdir(file_path):\n",
    "                shutil.rmtree(file_path)\n",
    "        except Exception as e:\n",
    "            print('Failed to delete %s. Reason: %s' % (file_path, e))\n",
    "    aug = 0\n",
    "    for i in x_train_img:  \n",
    "        count = 0\n",
    "        pic_array = i.reshape((1,) + i.shape)\n",
    "        it = datagen.flow(pic_array, \n",
    "                          batch_size=1,\n",
    "                          shuffle=False,\n",
    "                          save_to_dir=os.getcwd()+\"/house_gen_data\",\n",
    "                          seed = 42,\n",
    "                          save_prefix=aug, \n",
    "                          save_format='jpeg')\n",
    "        for i in range(batches):\n",
    "            batch = it.next()\n",
    "        aug += 1\n"
   ]
  },
  {
   "cell_type": "code",
   "execution_count": 13,
   "metadata": {},
   "outputs": [],
   "source": [
    "#load new test images\n",
    "x_train_num = x_train_num.reset_index(drop = True)\n",
    "image_path = os.getcwd()+\"/house_gen_data\"\n",
    "images_test = [] \n",
    "\n",
    "for i in x_train_num.index.values:\n",
    "    house_images = os.path.sep.join([image_path, \"{}_0*\".format(i)])\n",
    "    images_paths = sorted(list(glob.glob(house_images)))\n",
    "    \n",
    "    for j in images_paths:\n",
    "        image = cv2.imread(j)\n",
    "        images_test.append(image)\n",
    "x_train_img = np.array(images_test)"
   ]
  },
  {
   "cell_type": "code",
   "execution_count": 14,
   "metadata": {},
   "outputs": [],
   "source": [
    "#expand numeric train data\n",
    "x_train_num = pd.DataFrame(np.repeat(x_train_num.values, 30, axis=0), columns=df.columns)"
   ]
  },
  {
   "cell_type": "code",
   "execution_count": 15,
   "metadata": {},
   "outputs": [
    {
     "data": {
      "text/plain": [
       "True"
      ]
     },
     "execution_count": 15,
     "metadata": {},
     "output_type": "execute_result"
    }
   ],
   "source": [
    "#validate the dimensions of image and numeric dfs match\n",
    "len(x_train_img) == len(x_train_num)"
   ]
  },
  {
   "cell_type": "code",
   "execution_count": 16,
   "metadata": {},
   "outputs": [
    {
     "name": "stdout",
     "output_type": "stream",
     "text": [
      "(15330,)\n",
      "(128, 64, 64, 3)\n",
      "(15330, 3)\n",
      "(128,)\n",
      "(128, 3)\n"
     ]
    }
   ],
   "source": [
    "maxPrice = x_train_num[\"Price\"].max() \n",
    "#final training datasets\n",
    "y_train = x_train_num['Price'] \n",
    "x_train_num = x_train_num.drop(columns = [\"Price\"]) \n",
    "\n",
    "#final testing datasets\n",
    "y_test = x_test_num['Price'] \n",
    "x_test_num = x_test_num.drop(columns = [\"Price\"])\n",
    "\n",
    "print(y_train.shape)\n",
    "print(x_test_img.shape)\n",
    "print(x_train_num.shape)\n",
    "print(y_test.shape)\n",
    "print(x_test_num.shape)"
   ]
  },
  {
   "cell_type": "markdown",
   "metadata": {},
   "source": [
    "## Neural Network"
   ]
  },
  {
   "cell_type": "code",
   "execution_count": 17,
   "metadata": {},
   "outputs": [],
   "source": [
    "#multi-payer perceptron \n",
    "def create_mlp(dim, regress=False):\n",
    "    model = Sequential()\n",
    "    model.add(Dense(8, input_dim=dim, activation=\"relu\"))\n",
    "    model.add(Dense(4, activation=\"relu\"))\n",
    "\n",
    "    if regress:\n",
    "        model.add(Dense(1, activation=\"linear\"))\n",
    "\n",
    "    return model"
   ]
  },
  {
   "cell_type": "code",
   "execution_count": 18,
   "metadata": {},
   "outputs": [],
   "source": [
    "#CNN\n",
    "def create_cnn(width, height, depth, filters=(16, 32, 64), regress=False):\n",
    "    inputShape = (height, width, depth)\n",
    "    chanDim = -1\n",
    "\n",
    "    inputs = Input(shape=inputShape)\n",
    "    for (i, f) in enumerate(filters):\n",
    "        if i == 0:\n",
    "            x = inputs\n",
    "        x = Conv2D(f, (3, 3), padding=\"same\")(x)\n",
    "        x = Activation(\"relu\")(x)\n",
    "        x = BatchNormalization(axis=chanDim)(x)\n",
    "        x = MaxPooling2D(pool_size=(2, 2))(x)\n",
    "    x = Flatten()(x)\n",
    "    x = Dense(16)(x)\n",
    "    x = Activation(\"relu\")(x)\n",
    "    x = BatchNormalization(axis=chanDim)(x)\n",
    "    x = Dropout(0.5)(x)\n",
    "    x = Dense(4)(x)\n",
    "    x = Activation(\"relu\")(x)\n",
    "\n",
    "    if regress:\n",
    "        x = Dense(1, activation=\"linear\")(x)\n",
    "\n",
    "    model = Model(inputs, x)\n",
    "\n",
    "    # return the CNN\n",
    "    return model\n"
   ]
  },
  {
   "cell_type": "code",
   "execution_count": 19,
   "metadata": {},
   "outputs": [],
   "source": [
    "mlp = create_mlp(x_train_num.shape[1], regress=False)\n",
    "cnn = create_cnn(64, 64, 3, regress=False)"
   ]
  },
  {
   "cell_type": "code",
   "execution_count": 20,
   "metadata": {},
   "outputs": [],
   "source": [
    "combinedInput = concatenate([mlp.output, cnn.output])"
   ]
  },
  {
   "cell_type": "code",
   "execution_count": 21,
   "metadata": {},
   "outputs": [],
   "source": [
    "x = Dense(4, activation=\"relu\")(combinedInput)\n",
    "x = Dense(1, activation=\"linear\")(x)"
   ]
  },
  {
   "cell_type": "code",
   "execution_count": 23,
   "metadata": {},
   "outputs": [
    {
     "name": "stdout",
     "output_type": "stream",
     "text": [
      "Epoch 1/50\n",
      "1533/1533 [==============================] - 22s 14ms/step - loss: 18.5785 - val_loss: 16.8513\n",
      "Epoch 2/50\n",
      "1533/1533 [==============================] - 22s 15ms/step - loss: 18.5019 - val_loss: 16.4897\n",
      "Epoch 3/50\n",
      "1533/1533 [==============================] - 22s 14ms/step - loss: 18.2780 - val_loss: 2222521.5000\n",
      "Epoch 4/50\n",
      "1533/1533 [==============================] - 22s 14ms/step - loss: 18.1316 - val_loss: 16.5847\n",
      "Epoch 5/50\n",
      "1533/1533 [==============================] - 22s 14ms/step - loss: 17.7459 - val_loss: 906400.5625\n",
      "Epoch 6/50\n",
      "1533/1533 [==============================] - 22s 14ms/step - loss: 16.9760 - val_loss: 17.5547\n",
      "Epoch 7/50\n",
      "1533/1533 [==============================] - 22s 14ms/step - loss: 16.2168 - val_loss: 16.3922\n",
      "Epoch 8/50\n",
      "1533/1533 [==============================] - 22s 14ms/step - loss: 15.9328 - val_loss: 17.1175\n",
      "Epoch 9/50\n",
      "1533/1533 [==============================] - 22s 14ms/step - loss: 15.8398 - val_loss: 18.5851\n",
      "Epoch 10/50\n",
      "1533/1533 [==============================] - 21s 14ms/step - loss: 15.8256 - val_loss: 17.1197\n",
      "Epoch 11/50\n",
      "1533/1533 [==============================] - 21s 14ms/step - loss: 15.5737 - val_loss: 16.9260\n",
      "Epoch 12/50\n",
      "1533/1533 [==============================] - 21s 14ms/step - loss: 15.6484 - val_loss: 16.3694\n",
      "Epoch 13/50\n",
      "1533/1533 [==============================] - 21s 14ms/step - loss: 15.5284 - val_loss: 19.6104\n",
      "Epoch 14/50\n",
      "1533/1533 [==============================] - 21s 14ms/step - loss: 15.8537 - val_loss: 18.0998\n",
      "Epoch 15/50\n",
      "1533/1533 [==============================] - 21s 14ms/step - loss: 15.4892 - val_loss: 16.5508\n",
      "Epoch 16/50\n",
      "1533/1533 [==============================] - 21s 14ms/step - loss: 15.3036 - val_loss: 18.0258\n",
      "Epoch 17/50\n",
      "1533/1533 [==============================] - 21s 14ms/step - loss: 15.0350 - val_loss: 17.3291\n",
      "Epoch 18/50\n",
      "1533/1533 [==============================] - 21s 14ms/step - loss: 15.0084 - val_loss: 17.6816\n",
      "Epoch 19/50\n",
      "1533/1533 [==============================] - 21s 14ms/step - loss: 14.9471 - val_loss: 339.1283\n",
      "Epoch 20/50\n",
      "1533/1533 [==============================] - 21s 14ms/step - loss: 14.8849 - val_loss: 17.5692\n",
      "Epoch 21/50\n",
      "1533/1533 [==============================] - 21s 14ms/step - loss: 14.6827 - val_loss: 18.6019\n",
      "Epoch 22/50\n",
      "1533/1533 [==============================] - 21s 14ms/step - loss: 14.7735 - val_loss: 18.1783\n",
      "Epoch 23/50\n",
      "1533/1533 [==============================] - 21s 14ms/step - loss: 14.4252 - val_loss: 18.4285\n",
      "Epoch 24/50\n",
      "1533/1533 [==============================] - 21s 14ms/step - loss: 14.2014 - val_loss: 1503539.7500\n",
      "Epoch 25/50\n",
      "1533/1533 [==============================] - 21s 14ms/step - loss: 13.9796 - val_loss: 1552.8505\n",
      "Epoch 26/50\n",
      "1533/1533 [==============================] - 21s 14ms/step - loss: 13.9471 - val_loss: 136621.5781\n",
      "Epoch 27/50\n",
      "1533/1533 [==============================] - 21s 14ms/step - loss: 13.8946 - val_loss: 9609908.0000\n",
      "Epoch 28/50\n",
      "1533/1533 [==============================] - 21s 14ms/step - loss: 13.7561 - val_loss: 5055263.0000\n",
      "Epoch 29/50\n",
      "1533/1533 [==============================] - 21s 14ms/step - loss: 13.4010 - val_loss: 2783265.2500\n",
      "Epoch 30/50\n",
      "1533/1533 [==============================] - 21s 14ms/step - loss: 13.5850 - val_loss: 12170.8076\n",
      "Epoch 31/50\n",
      "1533/1533 [==============================] - 21s 14ms/step - loss: 13.5737 - val_loss: 72929.6719\n",
      "Epoch 32/50\n",
      "1533/1533 [==============================] - 21s 14ms/step - loss: 13.1764 - val_loss: 19.0459\n",
      "Epoch 33/50\n",
      "1533/1533 [==============================] - 21s 14ms/step - loss: 13.0375 - val_loss: 17.6392\n",
      "Epoch 34/50\n",
      "1533/1533 [==============================] - 21s 14ms/step - loss: 13.1627 - val_loss: 17.1593\n",
      "Epoch 35/50\n",
      "1533/1533 [==============================] - 21s 14ms/step - loss: 12.9144 - val_loss: 21.0464\n",
      "Epoch 36/50\n",
      "1533/1533 [==============================] - 21s 14ms/step - loss: 12.8500 - val_loss: 18.5612\n",
      "Epoch 37/50\n",
      "1533/1533 [==============================] - 21s 14ms/step - loss: 12.8820 - val_loss: 34.0982\n",
      "Epoch 38/50\n",
      "1533/1533 [==============================] - 21s 14ms/step - loss: 12.7195 - val_loss: 5871.9946\n",
      "Epoch 39/50\n",
      "1533/1533 [==============================] - 22s 14ms/step - loss: 12.6369 - val_loss: 18.3766\n",
      "Epoch 40/50\n",
      "1533/1533 [==============================] - 21s 14ms/step - loss: 12.6314 - val_loss: 19.4546\n",
      "Epoch 41/50\n",
      "1533/1533 [==============================] - 21s 14ms/step - loss: 12.4357 - val_loss: 17.8371\n",
      "Epoch 42/50\n",
      "1533/1533 [==============================] - 21s 14ms/step - loss: 12.4549 - val_loss: 18.6944\n",
      "Epoch 43/50\n",
      "1533/1533 [==============================] - 21s 14ms/step - loss: 12.4207 - val_loss: 52.1326\n",
      "Epoch 44/50\n",
      "1533/1533 [==============================] - 21s 14ms/step - loss: 12.2465 - val_loss: 19.8878\n",
      "Epoch 45/50\n",
      "1533/1533 [==============================] - 21s 14ms/step - loss: 12.2744 - val_loss: 17.4495\n",
      "Epoch 46/50\n",
      "1533/1533 [==============================] - 22s 14ms/step - loss: 12.1800 - val_loss: 111.0333\n",
      "Epoch 47/50\n",
      "1533/1533 [==============================] - 22s 14ms/step - loss: 12.1703 - val_loss: 17.5214\n",
      "Epoch 48/50\n",
      "1533/1533 [==============================] - 22s 15ms/step - loss: 12.0369 - val_loss: 1237.6481\n",
      "Epoch 49/50\n",
      "1533/1533 [==============================] - 23s 15ms/step - loss: 12.0587 - val_loss: 1523.6547\n",
      "Epoch 50/50\n",
      "1533/1533 [==============================] - 22s 14ms/step - loss: 12.0189 - val_loss: 18.7954\n"
     ]
    },
    {
     "data": {
      "text/plain": [
       "<tensorflow.python.keras.callbacks.History at 0x7fdd0018c2b0>"
      ]
     },
     "execution_count": 23,
     "metadata": {},
     "output_type": "execute_result"
    }
   ],
   "source": [
    "model = Model(inputs=[mlp.input, cnn.input], outputs=x)\n",
    "opt = Adam(lr=0.1)\n",
    "model.compile(loss=\"mean_absolute_percentage_error\", optimizer=opt)\n",
    "model.fit(\n",
    "    x=[x_train_num, x_train_img], y=y_train,\n",
    "    validation_data=([x_test_num, x_test_img], y_test),epochs=50, batch_size=10)"
   ]
  },
  {
   "cell_type": "code",
   "execution_count": 38,
   "metadata": {},
   "outputs": [
    {
     "name": "stdout",
     "output_type": "stream",
     "text": [
      "avg. house price: $602,101.24, std house price: $165,022.83\n",
      "mean: 18.80%, std: 13.12%\n"
     ]
    }
   ],
   "source": [
    "y_pred = model.predict([x_test_num, x_test_img])\n",
    "diff = preds.flatten() - y_test\n",
    "percentDiff = (diff / y_test) * 100\n",
    "absPercentDiff = np.abs(percentDiff)\n",
    "\n",
    "mean = np.mean(absPercentDiff)\n",
    "std = np.std(absPercentDiff)\n",
    "\n",
    "locale.setlocale(locale.LC_ALL, \"en_US.UTF-8\")\n",
    "print(\"avg. house price: {}, std house price: {}\".format(\n",
    "    locale.currency(df[\"Price\"].mean(), grouping=True),\n",
    "    locale.currency(df[\"Price\"].std(), grouping=True)))\n",
    "print(\"mean: {:.2f}%, std: {:.2f}%\".format(mean, std))"
   ]
  },
  {
   "cell_type": "code",
   "execution_count": 41,
   "metadata": {},
   "outputs": [
    {
     "ename": "ValueError",
     "evalue": "Found input variables with inconsistent numbers of samples: [2, 15330]",
     "output_type": "error",
     "traceback": [
      "\u001b[0;31m---------------------------------------------------------------------------\u001b[0m",
      "\u001b[0;31mValueError\u001b[0m                                Traceback (most recent call last)",
      "\u001b[0;32m<ipython-input-41-3a39a7c2a94f>\u001b[0m in \u001b[0;36m<module>\u001b[0;34m\u001b[0m\n\u001b[1;32m      8\u001b[0m \u001b[0;34m\u001b[0m\u001b[0m\n\u001b[1;32m      9\u001b[0m \u001b[0mgrid\u001b[0m \u001b[0;34m=\u001b[0m \u001b[0mGridSearchCV\u001b[0m\u001b[0;34m(\u001b[0m\u001b[0mestimator\u001b[0m\u001b[0;34m=\u001b[0m\u001b[0mmodel\u001b[0m\u001b[0;34m,\u001b[0m \u001b[0mparam_grid\u001b[0m\u001b[0;34m=\u001b[0m\u001b[0mparam_grid\u001b[0m\u001b[0;34m,\u001b[0m \u001b[0mscoring\u001b[0m\u001b[0;34m=\u001b[0m\u001b[0;34m'neg_mean_squared_error'\u001b[0m\u001b[0;34m,\u001b[0m\u001b[0mn_jobs\u001b[0m\u001b[0;34m=\u001b[0m\u001b[0;34m-\u001b[0m\u001b[0;36m1\u001b[0m\u001b[0;34m,\u001b[0m \u001b[0mcv\u001b[0m\u001b[0;34m=\u001b[0m\u001b[0;36m3\u001b[0m\u001b[0;34m)\u001b[0m\u001b[0;34m\u001b[0m\u001b[0;34m\u001b[0m\u001b[0m\n\u001b[0;32m---> 10\u001b[0;31m \u001b[0mgrid_result\u001b[0m \u001b[0;34m=\u001b[0m \u001b[0mgrid\u001b[0m\u001b[0;34m.\u001b[0m\u001b[0mfit\u001b[0m\u001b[0;34m(\u001b[0m\u001b[0mx\u001b[0m\u001b[0;34m,\u001b[0m \u001b[0my\u001b[0m\u001b[0;34m)\u001b[0m\u001b[0;34m\u001b[0m\u001b[0;34m\u001b[0m\u001b[0m\n\u001b[0m",
      "\u001b[0;32m~/.local/lib/python3.8/site-packages/sklearn/utils/validation.py\u001b[0m in \u001b[0;36minner_f\u001b[0;34m(*args, **kwargs)\u001b[0m\n\u001b[1;32m     61\u001b[0m             \u001b[0mextra_args\u001b[0m \u001b[0;34m=\u001b[0m \u001b[0mlen\u001b[0m\u001b[0;34m(\u001b[0m\u001b[0margs\u001b[0m\u001b[0;34m)\u001b[0m \u001b[0;34m-\u001b[0m \u001b[0mlen\u001b[0m\u001b[0;34m(\u001b[0m\u001b[0mall_args\u001b[0m\u001b[0;34m)\u001b[0m\u001b[0;34m\u001b[0m\u001b[0;34m\u001b[0m\u001b[0m\n\u001b[1;32m     62\u001b[0m             \u001b[0;32mif\u001b[0m \u001b[0mextra_args\u001b[0m \u001b[0;34m<=\u001b[0m \u001b[0;36m0\u001b[0m\u001b[0;34m:\u001b[0m\u001b[0;34m\u001b[0m\u001b[0;34m\u001b[0m\u001b[0m\n\u001b[0;32m---> 63\u001b[0;31m                 \u001b[0;32mreturn\u001b[0m \u001b[0mf\u001b[0m\u001b[0;34m(\u001b[0m\u001b[0;34m*\u001b[0m\u001b[0margs\u001b[0m\u001b[0;34m,\u001b[0m \u001b[0;34m**\u001b[0m\u001b[0mkwargs\u001b[0m\u001b[0;34m)\u001b[0m\u001b[0;34m\u001b[0m\u001b[0;34m\u001b[0m\u001b[0m\n\u001b[0m\u001b[1;32m     64\u001b[0m \u001b[0;34m\u001b[0m\u001b[0m\n\u001b[1;32m     65\u001b[0m             \u001b[0;31m# extra_args > 0\u001b[0m\u001b[0;34m\u001b[0m\u001b[0;34m\u001b[0m\u001b[0;34m\u001b[0m\u001b[0m\n",
      "\u001b[0;32m~/.local/lib/python3.8/site-packages/sklearn/model_selection/_search.py\u001b[0m in \u001b[0;36mfit\u001b[0;34m(self, X, y, groups, **fit_params)\u001b[0m\n\u001b[1;32m    757\u001b[0m             \u001b[0mrefit_metric\u001b[0m \u001b[0;34m=\u001b[0m \u001b[0mself\u001b[0m\u001b[0;34m.\u001b[0m\u001b[0mrefit\u001b[0m\u001b[0;34m\u001b[0m\u001b[0;34m\u001b[0m\u001b[0m\n\u001b[1;32m    758\u001b[0m \u001b[0;34m\u001b[0m\u001b[0m\n\u001b[0;32m--> 759\u001b[0;31m         \u001b[0mX\u001b[0m\u001b[0;34m,\u001b[0m \u001b[0my\u001b[0m\u001b[0;34m,\u001b[0m \u001b[0mgroups\u001b[0m \u001b[0;34m=\u001b[0m \u001b[0mindexable\u001b[0m\u001b[0;34m(\u001b[0m\u001b[0mX\u001b[0m\u001b[0;34m,\u001b[0m \u001b[0my\u001b[0m\u001b[0;34m,\u001b[0m \u001b[0mgroups\u001b[0m\u001b[0;34m)\u001b[0m\u001b[0;34m\u001b[0m\u001b[0;34m\u001b[0m\u001b[0m\n\u001b[0m\u001b[1;32m    760\u001b[0m         \u001b[0mfit_params\u001b[0m \u001b[0;34m=\u001b[0m \u001b[0m_check_fit_params\u001b[0m\u001b[0;34m(\u001b[0m\u001b[0mX\u001b[0m\u001b[0;34m,\u001b[0m \u001b[0mfit_params\u001b[0m\u001b[0;34m)\u001b[0m\u001b[0;34m\u001b[0m\u001b[0;34m\u001b[0m\u001b[0m\n\u001b[1;32m    761\u001b[0m \u001b[0;34m\u001b[0m\u001b[0m\n",
      "\u001b[0;32m~/.local/lib/python3.8/site-packages/sklearn/utils/validation.py\u001b[0m in \u001b[0;36mindexable\u001b[0;34m(*iterables)\u001b[0m\n\u001b[1;32m    297\u001b[0m     \"\"\"\n\u001b[1;32m    298\u001b[0m     \u001b[0mresult\u001b[0m \u001b[0;34m=\u001b[0m \u001b[0;34m[\u001b[0m\u001b[0m_make_indexable\u001b[0m\u001b[0;34m(\u001b[0m\u001b[0mX\u001b[0m\u001b[0;34m)\u001b[0m \u001b[0;32mfor\u001b[0m \u001b[0mX\u001b[0m \u001b[0;32min\u001b[0m \u001b[0miterables\u001b[0m\u001b[0;34m]\u001b[0m\u001b[0;34m\u001b[0m\u001b[0;34m\u001b[0m\u001b[0m\n\u001b[0;32m--> 299\u001b[0;31m     \u001b[0mcheck_consistent_length\u001b[0m\u001b[0;34m(\u001b[0m\u001b[0;34m*\u001b[0m\u001b[0mresult\u001b[0m\u001b[0;34m)\u001b[0m\u001b[0;34m\u001b[0m\u001b[0;34m\u001b[0m\u001b[0m\n\u001b[0m\u001b[1;32m    300\u001b[0m     \u001b[0;32mreturn\u001b[0m \u001b[0mresult\u001b[0m\u001b[0;34m\u001b[0m\u001b[0;34m\u001b[0m\u001b[0m\n\u001b[1;32m    301\u001b[0m \u001b[0;34m\u001b[0m\u001b[0m\n",
      "\u001b[0;32m~/.local/lib/python3.8/site-packages/sklearn/utils/validation.py\u001b[0m in \u001b[0;36mcheck_consistent_length\u001b[0;34m(*arrays)\u001b[0m\n\u001b[1;32m    260\u001b[0m     \u001b[0muniques\u001b[0m \u001b[0;34m=\u001b[0m \u001b[0mnp\u001b[0m\u001b[0;34m.\u001b[0m\u001b[0munique\u001b[0m\u001b[0;34m(\u001b[0m\u001b[0mlengths\u001b[0m\u001b[0;34m)\u001b[0m\u001b[0;34m\u001b[0m\u001b[0;34m\u001b[0m\u001b[0m\n\u001b[1;32m    261\u001b[0m     \u001b[0;32mif\u001b[0m \u001b[0mlen\u001b[0m\u001b[0;34m(\u001b[0m\u001b[0muniques\u001b[0m\u001b[0;34m)\u001b[0m \u001b[0;34m>\u001b[0m \u001b[0;36m1\u001b[0m\u001b[0;34m:\u001b[0m\u001b[0;34m\u001b[0m\u001b[0;34m\u001b[0m\u001b[0m\n\u001b[0;32m--> 262\u001b[0;31m         raise ValueError(\"Found input variables with inconsistent numbers of\"\n\u001b[0m\u001b[1;32m    263\u001b[0m                          \" samples: %r\" % [int(l) for l in lengths])\n\u001b[1;32m    264\u001b[0m \u001b[0;34m\u001b[0m\u001b[0m\n",
      "\u001b[0;31mValueError\u001b[0m: Found input variables with inconsistent numbers of samples: [2, 15330]"
     ]
    }
   ],
   "source": [
    "#optimize batch size and epocs\n",
    "batch_size = [10,30,50,75,100]\n",
    "epochs = [10, 50, 100]\n",
    "param_grid = dict(batch_size=batch_size, epochs=epochs)\n",
    "\n",
    "x=[x_train_num, x_train_img]\n",
    "y=y_train\n",
    "\n",
    "grid = GridSearchCV(estimator=model, param_grid=param_grid, scoring='neg_mean_squared_error',n_jobs=-1, cv=3)\n",
    "grid_result = grid.fit(x, y)"
   ]
  },
  {
   "cell_type": "code",
   "execution_count": 39,
   "metadata": {},
   "outputs": [
    {
     "data": {
      "text/plain": [
       "array([[ 599411.4 ],\n",
       "       [ 506715.62],\n",
       "       [ 509350.16],\n",
       "       [ 673012.7 ],\n",
       "       [ 335983.34],\n",
       "       [ 513713.  ],\n",
       "       [ 380053.84],\n",
       "       [ 486463.22],\n",
       "       [ 456527.53],\n",
       "       [ 651933.5 ],\n",
       "       [ 541993.56],\n",
       "       [ 445259.22],\n",
       "       [ 379070.8 ],\n",
       "       [ 515413.7 ],\n",
       "       [ 653851.5 ],\n",
       "       [ 510451.7 ],\n",
       "       [ 558276.5 ],\n",
       "       [ 526878.4 ],\n",
       "       [ 635229.6 ],\n",
       "       [ 458772.06],\n",
       "       [ 781799.8 ],\n",
       "       [ 497633.4 ],\n",
       "       [ 597078.44],\n",
       "       [ 571673.94],\n",
       "       [ 545977.1 ],\n",
       "       [ 329694.22],\n",
       "       [ 482424.9 ],\n",
       "       [ 618761.9 ],\n",
       "       [ 462480.4 ],\n",
       "       [ 484996.53],\n",
       "       [ 589630.56],\n",
       "       [ 771813.  ],\n",
       "       [ 378566.44],\n",
       "       [ 649655.9 ],\n",
       "       [ 483651.75],\n",
       "       [ 513039.78],\n",
       "       [ 426868.06],\n",
       "       [ 466360.5 ],\n",
       "       [ 448740.38],\n",
       "       [ 425313.  ],\n",
       "       [ 435516.34],\n",
       "       [ 690091.1 ],\n",
       "       [ 529022.75],\n",
       "       [ 453102.03],\n",
       "       [ 670167.25],\n",
       "       [ 457363.7 ],\n",
       "       [ 521252.03],\n",
       "       [ 436560.2 ],\n",
       "       [1073900.8 ],\n",
       "       [ 629697.2 ],\n",
       "       [ 602213.44],\n",
       "       [ 430001.25],\n",
       "       [ 644459.6 ],\n",
       "       [ 489996.7 ],\n",
       "       [ 812147.6 ],\n",
       "       [ 739492.06],\n",
       "       [ 614749.8 ],\n",
       "       [ 565261.4 ],\n",
       "       [ 650365.06],\n",
       "       [ 591582.25],\n",
       "       [ 361476.06],\n",
       "       [ 660499.25],\n",
       "       [ 491219.78],\n",
       "       [ 740880.75],\n",
       "       [ 557993.75],\n",
       "       [ 582682.25],\n",
       "       [ 638972.9 ],\n",
       "       [ 387364.12],\n",
       "       [ 813281.75],\n",
       "       [ 615765.56],\n",
       "       [ 653446.  ],\n",
       "       [ 530453.94],\n",
       "       [ 667673.25],\n",
       "       [ 547218.3 ],\n",
       "       [ 498096.4 ],\n",
       "       [ 614151.44],\n",
       "       [ 597662.56],\n",
       "       [ 415314.44],\n",
       "       [ 649708.44],\n",
       "       [ 506920.78],\n",
       "       [ 789890.8 ],\n",
       "       [ 549155.  ],\n",
       "       [ 418637.56],\n",
       "       [ 650652.9 ],\n",
       "       [ 393856.56],\n",
       "       [ 493813.94],\n",
       "       [ 398096.4 ],\n",
       "       [ 372878.72],\n",
       "       [ 625380.25],\n",
       "       [ 452459.47],\n",
       "       [ 404094.88],\n",
       "       [ 636301.8 ],\n",
       "       [ 529364.2 ],\n",
       "       [ 512543.8 ],\n",
       "       [ 542909.  ],\n",
       "       [ 446114.9 ],\n",
       "       [ 592566.94],\n",
       "       [ 395122.12],\n",
       "       [ 775454.75],\n",
       "       [ 527852.56],\n",
       "       [ 414059.62],\n",
       "       [ 555196.44],\n",
       "       [ 958405.94],\n",
       "       [ 691560.7 ],\n",
       "       [ 395766.3 ],\n",
       "       [ 609694.94],\n",
       "       [ 385878.53],\n",
       "       [ 850394.06],\n",
       "       [ 579262.56],\n",
       "       [ 375343.8 ],\n",
       "       [ 549789.94],\n",
       "       [ 582790.94],\n",
       "       [ 529847.2 ],\n",
       "       [ 391953.6 ],\n",
       "       [ 763018.06],\n",
       "       [ 525307.8 ],\n",
       "       [ 623730.8 ],\n",
       "       [ 727946.5 ],\n",
       "       [ 505324.7 ],\n",
       "       [ 594982.2 ],\n",
       "       [ 606345.6 ],\n",
       "       [ 619864.56],\n",
       "       [ 632508.75],\n",
       "       [ 532062.  ],\n",
       "       [ 502924.03],\n",
       "       [ 813626.06],\n",
       "       [ 518108.1 ],\n",
       "       [ 456397.7 ]], dtype=float32)"
      ]
     },
     "execution_count": 39,
     "metadata": {},
     "output_type": "execute_result"
    }
   ],
   "source": [
    "preds"
   ]
  },
  {
   "cell_type": "code",
   "execution_count": null,
   "metadata": {},
   "outputs": [],
   "source": []
  }
 ],
 "metadata": {
  "kernelspec": {
   "display_name": "Python 3",
   "language": "python",
   "name": "python3"
  },
  "language_info": {
   "codemirror_mode": {
    "name": "ipython",
    "version": 3
   },
   "file_extension": ".py",
   "mimetype": "text/x-python",
   "name": "python",
   "nbconvert_exporter": "python",
   "pygments_lexer": "ipython3",
   "version": "3.8.5"
  }
 },
 "nbformat": 4,
 "nbformat_minor": 2
}
